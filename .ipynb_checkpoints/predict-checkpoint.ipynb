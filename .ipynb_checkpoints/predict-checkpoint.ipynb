{
 "cells": [
  {
   "cell_type": "code",
   "execution_count": 5,
   "metadata": {},
   "outputs": [
    {
     "name": "stderr",
     "output_type": "stream",
     "text": [
      "/usr/local/lib/python3.5/dist-packages/ipykernel_launcher.py:25: UserWarning: Update your `Model` call to the Keras 2 API: `Model(outputs=Tensor(\"se..., inputs=Tensor(\"in...)`\n"
     ]
    }
   ],
   "source": [
    "import sys\n",
    "from keras.preprocessing import image\n",
    "from keras.models import load_model\n",
    "\n",
    "if len(sys.argv) != 2:\n",
    "    print(\"usage: python predict.py [filename]\")\n",
    "    sys.exit(1)\n",
    "\n",
    "filename = sys.argv[1]\n",
    "print('input:', filename)\n",
    "\n",
    "\n",
    "model = load_model('finetuning_model.h5')\n",
    "\n",
    "# 画像を読み込んで4次元テンソルへ変換\n",
    "img = image.load_img(filename, target_size=(img_height, img_width))\n",
    "x = image.img_to_array(img)\n",
    "x = np.expand_dims(x, axis=0)\n",
    "\n",
    "# 学習時にImageDataGeneratorのrescaleで正規化したので同じ処理が必要！\n",
    "# これを忘れると結果がおかしくなるので注意\n",
    "x = x / 255.0\n",
    "\n",
    "# print(x)\n",
    "# print(x.shape)\n",
    "\n",
    "# クラスを予測\n",
    "# 入力は1枚の画像なので[0]のみ\n",
    "pred = model.predict(x)[0]\n",
    "print(pred)"
   ]
  },
  {
   "cell_type": "code",
   "execution_count": null,
   "metadata": {},
   "outputs": [],
   "source": []
  }
 ],
 "metadata": {
  "kernelspec": {
   "display_name": "Python 3",
   "language": "python",
   "name": "python3"
  },
  "language_info": {
   "codemirror_mode": {
    "name": "ipython",
    "version": 3
   },
   "file_extension": ".py",
   "mimetype": "text/x-python",
   "name": "python",
   "nbconvert_exporter": "python",
   "pygments_lexer": "ipython3",
   "version": "3.5.2"
  }
 },
 "nbformat": 4,
 "nbformat_minor": 2
}
